{
 "cells": [
  {
   "cell_type": "markdown",
   "metadata": {},
   "source": [
    "## COM361 &mdash; Introdução a Otimização &mdash; 2023, Prof. Amit ##\n",
    "\n",
    "# Controle Ótimo de Epidemia #\n",
    "\n",
    "#### Helena de Souza Douroucas (email), Pedro Nunes Pereira (pedronunes@poli.ufrj.br), Vinícius Quintanilha Porto Gomes (viniciusporto@poli.ufrj.br)\n",
    "\n",
    "*****\n",
    "\n",
    "### Índice\n",
    "\n",
    "1. [Introdução](#1.-Introdução)\n",
    "1. [Modelo Matemático](#2.-Modelo Mathemático)\n",
    "1. [Solução](#3.-Solução)\n",
    "1. [Resultados e Discussão](#4.-Resultados-e-discussão)\n",
    "  1. [Subseção Opcional](#4.A.-Acrescente-subseções-se-necessário)\n",
    "1. [Conclusão](#5.-Conclusão)\n",
    "1. [Referências bibliográficas](#6.-Referências bibliográficas)"
   ]
  },
  {
   "cell_type": "markdown",
   "metadata": {
    "collapsed": true
   },
   "source": [
    "## 1. Introdução ##\n",
    "\n",
    "Este trabalho busca realizar o controle ótimo de uma epidemia utilizando técnicas de otimização por meio do software Julia. Entre os anos de 2020 e 2022 a\n",
    "\n",
    "As primeiras frases devem dar um panorama geral do projeto. Em seguida, uma descrição mais detalhada do problema que será resolvido, uma breve história do surgimento do problema (com [citations](https://en.wikipedia.org/wiki/Citation)) que será abordado, porque é importante e interessante e quaisquer outros fatos correlatos que queira expor. A fonte dos dados utilizados deve ser explicitada (pesquisa? internet? gerados sinteticamente?). Também deve ser feito um esboço do restante do relatório.\n",
    "\n",
    "\n",
    "Esta seção deve ter entre 300 e 600 palavras, e **deve ser acessível a leigos** (não deve ser suposto que o leitor desta seção cursou esta disciplina). Podem incluir figuras se acharem convenientes:\n",
    "\n",
    "![fixit flowchart][flow]\n",
    "\n",
    "Para mais ajuda no uso de Markdown, veja [este link](https://github.com/adam-p/markdown-here/wiki/Markdown-Cheatsheet).\n",
    "\n",
    "[flow]: https://s-media-cache-ak0.pinimg.com/736x/f5/75/c5/f575c53b93724808c6f0211890a54900.jpg"
   ]
  },
  {
   "cell_type": "markdown",
   "metadata": {
    "collapsed": true
   },
   "source": [
    "## 2. Modelo matemático ##\n",
    "\n",
    "Esta seção deve conter uma discussão das hipóteses de modelagem feitas no problema (conforme a origem do problema: física? economia? redes sociais? ...). Explique a escolha das variáveis de decisão, as restrições e a função objetivo. Finalmente, mostre o problema de otimização escrite em forma padrão. Discute o tipo de modelo adotado (LP, QP, MIP, etc.). Equações devem ser formatadas em $\\LaTeX$ dentro do notebook Julia. Nesta seção, pode supor que **o leitor está familiarizado com a matéria\"**.\n",
    "\n",
    "Eis um exemplo de uma equação:\n",
    "\n",
    "$$\n",
    "\\begin{bmatrix}\n",
    "  1 & 2 \\\\\n",
    "  3 & 4\n",
    "\\end{bmatrix}\n",
    "\\begin{bmatrix} x \\\\ y \\end{bmatrix} =\n",
    "\\begin{bmatrix} 5 \\\\ 6 \\end{bmatrix}\n",
    "$$\n",
    "\n",
    "Aqui está um exemplo de um problema de otimização no formato padrão:\n",
    "\n",
    "$$\n",
    "\\begin{aligned}\n",
    "\\underset{x \\in \\mathbb{R^n}}{\\text{maximize}}\\qquad& f_0(x) \\\\\n",
    "\\text{sujeito a:}\\qquad& f_i(x) \\le 0 && i=1,\\dots,m\\\\\n",
    "& h_j(x) = 0 && j=1,\\dots,r\n",
    "\\end{aligned}\n",
    "$$\n",
    "\n",
    "Para algumas dicas rápidas sobre a utilizção de $\\LaTeX$, veja [este cheat sheet](http://users.dickinson.edu/~richesod/latex/latexcheatsheet.pdf).\n",
    "\n",
    "O modelo  divide a população em 3 grupos diferentes: sucetíveis (S), infectados (I) e recuperados (R).\n",
    "O modelo usado por [GAFF] (trocar por uma referência) considera o caso contínuo e define as derivadas de S, I e R. Nesse trabalho, usaremos um modelo de tempo discreto, com unidade de tempo de um dia.\n",
    "\n",
    "$$S[k+1] = S[k] + \\mu N[k] - \\beta \\frac{S[k]I[k]}{N[k]} - u_1[k]S[k] - \\mu \\frac{N[k]S[k]}{K}$$\n",
    "\n",
    "$$I[k+1] = I[k] + \\beta \\frac{S[k]I[k]}{N[k]} - (\\delta + \\gamma + u_2[k])I[k] - \\mu \\frac{N[k]I[k]}{K}$$\n",
    "\n",
    "$$R[k+1] = R[k]- u_1[k]S[k] + (\\gamma + u_2[k])I[k] - \\mu \\frac{N[k]R[k]}{K}$$\n",
    "\n",
    "$%Inserir explicação para cada termo$\n",
    "\n",
    "A função objetivo usada no caso contínuo é:\n",
    "\n",
    "$$\\int _0^{T_f} \\left[B_1 I(t) + B_2 \\left[\\frac{R(t)}{K}\\right]^m u_1^2(t) + B_3 u_2^2(t) \\right] dt$$\n",
    "\n",
    "Onde $B_1, B_2, B_3, m$ são parâmetros que vão alterar os pesos de cada termo.\n",
    "\n",
    "Levando para o caso discreto temos:\n",
    "\n",
    "$$\\sum _{k=1}^{T_f} \\left[B_1 I[k] + B_2 \\left[\\frac{R[k]}{K}\\right]^m u_1^2[k] + B_3 u_2^2[k] \\right]$$\n",
    "\n",
    "O artigo adiciona mais duas restrições, $u_1(t) < 0.1$ e $u_2(t) < 0.6$, equivalente a $u_1[k] < 0.1$ e $u_2[k] < 0.6$. Essa escolha é equivalente a limitar a vacinação a no máximo 10% da população sucetível por dia e o tratamento a no máxima 60% por dia.\n",
    "\n",
    "Dependendo da epidemia e da população que está sendo analisada (uma populosa capital de estado ou uma pequena cidade do interior), esses limites precisarão ser alterados. Também é presuposto que a vacinação está disponível desde o início do periodo analisado, o que pode não ser o caso. "
   ]
  },
  {
   "cell_type": "markdown",
   "metadata": {
    "collapsed": true
   },
   "source": [
    "## 3. Solução ##\n",
    "\n",
    "Nesta seção, coloque seu código em Julia + JuMP e resolva o problema proposto. Seu código deve ser limpo (não macarrônico!), de fácil leitura, bem comentado e anotado e deve compilar sem erros em Julia 1.x, x$\\geq 1$! Não valem códigos em outras linguagens. **Vou rodar seu código para avaliar seu projeto**. Sugiro a utilização de múltiplos blocos de códigos separados por blocos de texto (células Markdown) explicando as várias partes da sua solução. Sugiro também a resolução de várias versões do seu problema, com modelos e hipóteses diferentes.\n",
    "\n",
    "É permitido chamar pacotes externos, mas evite a utilização de bibliotecas exóticas (pois, em geral, não rodam em todas as versões de Julia, e terei que instalar a mesma versão que você usou, ou rodar na plataforma Google Colab, que gostaria de evitar)."
   ]
  },
  {
   "cell_type": "code",
   "execution_count": 3,
   "metadata": {},
   "outputs": [
    {
     "name": "stdout",
     "output_type": "stream",
     "text": [
      "O número total de cavalos é: 10.0\n",
      "O número total de jegues é: 0.0\n",
      "O número total de cabras é: 0.0\n"
     ]
    }
   ],
   "source": [
    "# Este é um exemplo de um bloco de código\n",
    "using JuMP, Clp\n",
    "m = Model(with_optimizer(Clp.Optimizer,LogLevel=0) )\n",
    "bichos = [:cavalos, :jegues, :cabras]  # estes são os bichos \n",
    "@variable(m, x[bichos] >= 0)          # as quantidades de cada um (não podem ser negativas)\n",
    "@constraint(m, sum(x) <= 10)          # não podemos ter mais de 10 no total.\n",
    "@objective(m, Max, x[:cavalos])        # queremos maximizar o número de cavalos\n",
    "optimize!(m)\n",
    "\n",
    "for i in bichos\n",
    "    println(\"O número total de \", i, \" é: \", JuMP.value.(x[i]))     # imprime o resultado na tela\n",
    "end"
   ]
  },
  {
   "cell_type": "code",
   "execution_count": 102,
   "metadata": {},
   "outputs": [
    {
     "ename": "LoadError",
     "evalue": "Unrecognized function \".^\" used in nonlinear expression.\n\nYou must register it as a user-defined function before building\nthe model. For example, replacing `N` with the appropriate number\nof arguments, do:\n```julia\nmodel = Model()\nregister(model, :.^, N, .^, autodiff=true)\n# ... variables and constraints ...\n```\n",
     "output_type": "error",
     "traceback": [
      "Unrecognized function \".^\" used in nonlinear expression.\n\nYou must register it as a user-defined function before building\nthe model. For example, replacing `N` with the appropriate number\nof arguments, do:\n```julia\nmodel = Model()\nregister(model, :.^, N, .^, autodiff=true)\n# ... variables and constraints ...\n```\n",
      "",
      "Stacktrace:",
      " [1] error(s::String)",
      "   @ Base .\\error.jl:35",
      " [2] assert_registered(registry::MathOptInterface.Nonlinear.OperatorRegistry, op::Symbol, nargs::Int64)",
      "   @ MathOptInterface.Nonlinear C:\\Users\\Pedro Nunes\\.julia\\packages\\MathOptInterface\\tWT4o\\src\\Nonlinear\\operators.jl:487",
      " [3] macro expansion",
      "   @ C:\\Users\\Pedro Nunes\\.julia\\packages\\JuMP\\jZvaU\\src\\macros.jl:2290 [inlined]",
      " [4] top-level scope",
      "   @ In[102]:62"
     ]
    }
   ],
   "source": [
    "using JuMP, Ipopt, Plots\n",
    "\n",
    "\n",
    "m = Model(Ipopt.Optimizer)\n",
    "Tf = 50\n",
    "mu, beta, gamma, delta, K = (0.00004 , 0.5, 0.1, 0.1, 5000)\n",
    "B1, B2, B3 = (1, 1000, 1000)\n",
    "\n",
    "@variable(m, S[1:Tf] >= 0)   #Número de Suscetiveis\n",
    "@variable(m, I[1:Tf] >= 0)   #Número de Infectados\n",
    "@variable(m, R[1:Tf] >= 0)   #Número de \"Removidos\"\n",
    "@variable(m, N[1:Tf] >= 0)   #População total\n",
    "@variable(m, u1[1:Tf] >= 0)\n",
    "@variable(m, u2[1:Tf] >= 0)   #População total\n",
    "\n",
    "#Condições iniciais\n",
    "@constraint(m, S[1] == 4500) \n",
    "@constraint(m, I[1] == 499)\n",
    "@constraint(m, R[1] == 1)\n",
    "\n",
    "\n",
    "#Definindo Valores iniciais \n",
    "#set_start_value.(S[1], 4500)\n",
    "#set_start_value.(I[1], 499)\n",
    "#set_start_value.(R[1], 1)\n",
    "\n",
    "#for i in 1:Tf\n",
    "    #set_start_value.(x, 3)\n",
    "    #@constraint(m, N[i] == S[i] + I[i] + R[i])\n",
    "   # @constraint(m, u2[i] == 0.1)\n",
    "#end\n",
    "\n",
    "#for k in 1:Tf-1\n",
    "   # @NLconstraint(m, S[k+1] == S[k] + mu*N[k] - beta*S[k]*I[k]/N[k] - mu*N[k]*S[k]/K)\n",
    "   # @NLconstraint(m, I[k+1] == I[k] + beta*S[k]*I[k]/N[k] - (gamma + δ)*I[k] - mu*N[k]*I[k]/K)\n",
    "  #  @constraint(m, R[k+1] == R[k] + (gamma)*I[k] - mu*N[k]*R[k]/K)\n",
    "#end\n",
    "\n",
    "\n",
    "for i in 1:Tf\n",
    "    @constraint(m, N[i] == S[i] + I[i] + R[i])\n",
    "    @constraint(m, u1[i] <= 0.1)\n",
    "    @constraint(m, u2[i] <= 0.6)\n",
    "\n",
    "    #@constraint(m, u1[i] == 0.1)\n",
    "    #@constraint(m, u2[i] == 0.6)\n",
    "end\n",
    "\n",
    "for k in 1:Tf-1\n",
    "    @NLconstraint(m, S[k+1]  >= S[k] - u1[k]*S[k] + mu*N[k] - beta*S[k]*I[k]/N[k] - mu*N[k]*S[k]/K)\n",
    "    @NLconstraint(m, S[k+1]  <= S[k] - u1[k]*S[k] +  mu*N[k] - beta*S[k]*I[k]/N[k] - mu*N[k]*S[k]/K)\n",
    "    #@NLconstraint(m, S[k+1] == S[k] + mu*N[k] - beta*S[k]*I[k]/N[k] - mu*N[k]*S[k]/K)\n",
    "\n",
    "    #@NLconstraint(m, I[k+1] + 0.0 >= I[k] + beta*S[k]*I[k]/N[k] - (gamma + δ + u2[k])*I[k] - mu*N[k]*I[k]/K)\n",
    "    #@NLconstraint(m, I[k+1] - 0.0 <= I[k] + beta*S[k]*I[k]/N[k] - (gamma + δ + u2[k])*I[k] - mu*N[k]*I[k]/K)\n",
    "    @NLconstraint(m, I[k+1] == I[k] + beta*S[k]*I[k]/N[k] - (gamma + δ + u2[k])*I[k] - mu*N[k]*I[k]/K)\n",
    "\n",
    "    @constraint(m, R[k+1] == R[k] + u1[k]*S[k] + (gamma + u2[k])*I[k] - mu*N[k]*R[k]/K)\n",
    "end\n",
    "\n",
    "#@objective(m, Min, 0)\n",
    "\n",
    "@NLobjective(m, Min, sum(B1*I + (B2*(R/K).^2) .*u1.^2 + B3*u2.^2))\n",
    "optimize!(m)\n",
    "\n",
    "Suscetiveis = JuMP.value.(S)\n",
    "Infectados = JuMP.value.(I)\n",
    "Removidos = JuMP.value.(R)\n",
    "Total = JuMP.value.(N)\n",
    "println(JuMP.value.(u1))\n",
    "println(JuMP.value.(u2))\n",
    "println(JuMP.value.(I))\n",
    "println(\"Soma dos infectados: \",sum(JuMP.value.(I)))\n",
    "plot([Suscetiveis, Infectados, Removidos, Total])"
   ]
  },
  {
   "cell_type": "markdown",
   "metadata": {},
   "source": [
    "**Tenha certeza de que seu código compila corretamente! Rodarei seu código!**"
   ]
  },
  {
   "cell_type": "code",
   "execution_count": null,
   "metadata": {},
   "outputs": [],
   "source": []
  },
  {
   "cell_type": "markdown",
   "metadata": {
    "collapsed": true
   },
   "source": [
    "## 4. Resultados e discussão ##\n",
    "\n",
    "Neste seção, os resultados obtidos serão exibidos e discutidos. Mostre figuras, gráficos, imagens, curvas de compromisso, e o que mais puder melhor ilustrar seus resultados. A discussão deverá explicar o que significam os resultados e como interpretá-los. As limitações da sua abordagem/modelo também devem ser colocadas, bem como uma análise da sensibilidade dos resultados em relação às hipóteses feitas.\n",
    "\n",
    "\n",
    "Utilize plots (veja exemplos  `PyPlot` [aqui](https://gist.github.com/gizmaa/7214002))\n",
    "\n",
    "Aqui está um exemplo de uma tabela (em Markdown):\n",
    "\n",
    "| Tabelas        | São           | Boas  |\n",
    "| ------------- |:-------------:| -----:|\n",
    "| col 3 é      | alinhado à direita |\\$1600 |\n",
    "| col 2 é      | centrado      |  \\$12 |\n",
    "| texto | também serve      |   \\$1 |\n",
    "\n",
    "### 4.A. Subseções devem ser utilizadas para organizar seu texto.\n",
    "\n",
    "#### 4.A.a. ou até subsubseções."
   ]
  },
  {
   "cell_type": "markdown",
   "metadata": {
    "collapsed": true
   },
   "source": [
    "## 5. Conclusão ##\n",
    "\n",
    "Faça um resumo do que encontrou e dos seus resultados, e fale de pelo menos uma direção na qual  seu trabalho pode ser desenvolvido no futuro, algo que poderia ser interessante em decorrência do seu projeto.\n"
   ]
  },
  {
   "cell_type": "markdown",
   "metadata": {},
   "source": [
    "## 6. Referências bibliográficas ##\n",
    "\n",
    "Nesta seção, cite _*todas*_ as referências utilizadas, na formulação matemática, no código ou para extrair dados ou figuras. Omissão de fontes é transgressão grave, denominada plágio."
   ]
  }
 ],
 "metadata": {
  "@webio": {
   "lastCommId": null,
   "lastKernelId": null
  },
  "kernelspec": {
   "display_name": "Julia 1.9.2",
   "language": "julia",
   "name": "julia-1.9"
  },
  "language_info": {
   "file_extension": ".jl",
   "mimetype": "application/julia",
   "name": "julia",
   "version": "1.9.2"
  }
 },
 "nbformat": 4,
 "nbformat_minor": 1
}
